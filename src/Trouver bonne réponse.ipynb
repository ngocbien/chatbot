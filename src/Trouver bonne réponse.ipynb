{
 "cells": [
  {
   "cell_type": "markdown",
   "metadata": {},
   "source": [
    "### Cherche la question dans le corpus de traitement  qui est le plus proche de la requête, pour tourner la réponse correspondante. Peut être d'introduire une  certaine seuil pour être sûr qu'on a trouver une bonne réponse "
   ]
  },
  {
   "cell_type": "code",
   "execution_count": null,
   "metadata": {
    "collapsed": true
   },
   "outputs": [],
   "source": [
    "def score_by_new_doc_(new_doc, doc, DICT):\n",
    "    \"\"\"\n",
    "    DICT est construit à partir de méthode IF_IDF\n",
    "    split_words pour couper une pharse en termes( par mot et des mots consécutifs)\"\"\"\n",
    "    \n",
    "    list_word_in_doc = split_words(new_doc)\n",
    "    score = 0\n",
    "    for word in list_word_in_doc:\n",
    "            if word in DICT[doc]:\n",
    "                 score += DICT[doc][word]\n",
    "    return score\n",
    "\n",
    "\n",
    "def find_right_index_(new_doc):\n",
    "    \"\"\"\n",
    "    Si le meilleur score est 0, retourner la réponse de façon aléatoire\"\"\"\n",
    "\n",
    "    index=0\n",
    "    biggest_score = score_by_new_doc_(new_doc, DATA[0],dictionary)\n",
    "    for i in range(len(DATA)):\n",
    "        boolean1 = score_by_new_doc_(new_doc, DATA[i], dictionary) > biggest_score\n",
    "        boolean2 = score_by_new_doc_(new_doc, DATA[i], dictionary) == biggest_score\n",
    "        boolean3 = len(DATA[index]) >len(DATA[i])\n",
    "        if boolean1 or (boolean2 and boolean3):\n",
    "            biggest_score = score_by_new_doc_(new_doc, DATA[i], dictionary)\n",
    "            index = i\n",
    "    if biggest_score == 0:\n",
    "        index = random.choice([i for i in range(len(DATA))])\n",
    "    return index"
   ]
  }
 ],
 "metadata": {
  "kernelspec": {
   "display_name": "Python 3",
   "language": "python",
   "name": "python3"
  },
  "language_info": {
   "codemirror_mode": {
    "name": "ipython",
    "version": 3
   },
   "file_extension": ".py",
   "mimetype": "text/x-python",
   "name": "python",
   "nbconvert_exporter": "python",
   "pygments_lexer": "ipython3",
   "version": "3.6.3"
  }
 },
 "nbformat": 4,
 "nbformat_minor": 2
}
