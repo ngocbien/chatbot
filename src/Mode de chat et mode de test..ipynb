{
 "cells": [
  {
   "cell_type": "markdown",
   "metadata": {},
   "source": [
    "### pour chaque pharse en entrée:\n",
    "   1. Cherche le lieu.\n",
    "   2. Cherche le temps.\n",
    "   3. Nettoyer, couper la pharse en plusieurs termes.\n",
    "   4. Trouver la bonne réponse par TF-IDF\n",
    "A faire plus tard:\n",
    "    Traitement de données numériques."
   ]
  },
  {
   "cell_type": "code",
   "execution_count": null,
   "metadata": {
    "collapsed": true
   },
   "outputs": [],
   "source": [
    "def chat_(): \n",
    "    print('Bonjour, le bot d\\'Avicen à ton écoute')\n",
    "    path = 'processed/chat_tfidf.txt'\n",
    "    f =  open(path, 'a+') \n",
    "    while True:\n",
    "            line = str(input('Vous: '))\n",
    "            if len(line) < 2:\n",
    "                break\n",
    "            time, time_word = _find_right_time(line, COMPLET_DICT_TIME)\n",
    "            list_city = _find_right_geography(line, CITY_LIST)\n",
    "            if time_word is not None:\n",
    "                line = line.replace(time_word, '')\n",
    "            if list_city is not None:\n",
    "                for city in list_city:\n",
    "                    line = line.replace(city, '')\n",
    "            LINE = clear_line(line)\n",
    "            unknown_word =0\n",
    "            for word in LINE.split():\n",
    "                if word not in LIST_OF_WORDS:\n",
    "                    unknown_word += 1\n",
    "            if unknown_word > 1:\n",
    "                print('Désolé, je ne comprends pas ta question, peux tu la reformuler s\\'il te plaît?')                    \n",
    "                print()\n",
    "                continue\n",
    "            if len(line) !=0:\n",
    "                index= find_right_index_(LINE)\n",
    "                if time == None and list_city == None:\n",
    "                     print('Bot: ', convos_train[index][1])\n",
    "                elif list_city ==None:\n",
    "                    print('{}, {}'.format(time_word, convos_train[index][1]))\n",
    "                elif time == None:\n",
    "                    cities = ' '.join(list_city)\n",
    "                    print('À {}, {}'.format(cities, convos_train[index][1]))\n",
    "                else:\n",
    "                    cities = ' '.join(list_city)\n",
    "                    print('À {}, {}, {}'.format(cities, time_word, convos_train[index][1]))"
   ]
  },
  {
   "cell_type": "code",
   "execution_count": null,
   "metadata": {
    "collapsed": true
   },
   "outputs": [],
   "source": [
    "def chatting_with_test_corpus():\n",
    "    \n",
    "    path = 'test.txt'\n",
    "    questions = []\n",
    "    with open(path, 'r') as f:\n",
    "        for line in f:\n",
    "                line = line.strip()\n",
    "                questions.append(line)\n",
    "    f.close()\n",
    "    questions_clean = []\n",
    "    for question in questions:\n",
    "        if question not in questions_clean:\n",
    "            questions_clean.append(question)\n",
    "    for line in questions_clean:\n",
    "            line1 = line\n",
    "            time, time_word = _find_right_time(line, COMPLET_DICT_TIME)\n",
    "            list_city = _find_right_geography(line, CITY_LIST)\n",
    "            if time_word is not None:\n",
    "                line = line.replace(time_word, '')\n",
    "            if list_city is not None:\n",
    "                for city in list_city:\n",
    "                    line = line.replace(city, '')\n",
    "            LINE = clear_line(line)\n",
    "            unknown_word =0\n",
    "            print('Vous: ', line1)\n",
    "            for word in LINE.split():\n",
    "                if word not in LIST_OF_WORDS:\n",
    "                    unknown_word += 1\n",
    "            if unknown_word > 1:\n",
    "                print('Bot: Désolé, je ne comprends pas ta question, peux tu la reformuler s\\'il te plaît?')\n",
    "                print()\n",
    "                continue\n",
    "            if len(line) !=0:\n",
    "                index= find_right_index(LINE, DICT, méthode)\n",
    "                if time == None and list_city == None:\n",
    "                     print('Bot: ', pairs_trains[index][1])\n",
    "                elif list_city ==None:\n",
    "                    print('Bot: {}, {}'.format(time_word, pairs_trains[index][1]))\n",
    "                elif time == None:\n",
    "                    cities = ' '.join(list_city)\n",
    "                    print('Bot: À {}, {}'.format(cities, pairs_trains[index][1]))\n",
    "                else:\n",
    "                    cities = ' '.join(list_city)\n",
    "                    print('Bot: À {}, {}, {}'.format(cities, time_word, pairs_trains[index][1]))\n",
    "               \n",
    "                LINE = clear_line(line)   \n",
    "                index = find_right_index(LINE, DICT, METHODE[0])\n",
    "                #print('YOU: ', line)\n",
    "                #print('BOT: ', pairs_trains[index][1])\n",
    "                print()\n"
   ]
  }
 ],
 "metadata": {
  "kernelspec": {
   "display_name": "Python 3",
   "language": "python",
   "name": "python3"
  },
  "language_info": {
   "codemirror_mode": {
    "name": "ipython",
    "version": 3
   },
   "file_extension": ".py",
   "mimetype": "text/x-python",
   "name": "python",
   "nbconvert_exporter": "python",
   "pygments_lexer": "ipython3",
   "version": "3.6.3"
  }
 },
 "nbformat": 4,
 "nbformat_minor": 2
}
