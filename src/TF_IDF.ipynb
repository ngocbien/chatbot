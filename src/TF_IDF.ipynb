{
 "cells": [
  {
   "cell_type": "markdown",
   "metadata": {},
   "source": [
    "    ### TF-IDF de chaque terme dans document: 2 versions à tester. La deuxième est plus générale et qui fonctionne mieux en test avec k = 1/10."
   ]
  },
  {
   "cell_type": "code",
   "execution_count": null,
   "metadata": {
    "collapsed": true
   },
   "outputs": [],
   "source": [
    "\n",
    "def tf_idf(word, doc):\n",
    "    \"\"\"\n",
    "    Nous avons utilisé une normalisation pour TF-IDF\"\"\"\n",
    "    tf, df = 0, 0\n",
    "    len_doc = len(split_words(doc))\n",
    "    value_word = 1/math.sqrt(len_doc)\n",
    "    value_word = math.sqrt(value_word)\n",
    "    if word in str(doc):\n",
    "        tf = value_word\n",
    "    for doc_ in DATA:\n",
    "        if word in str(doc_):\n",
    "            df+=1\n",
    "    if df>0:\n",
    "        return tf*math.log(len(DATA)/(df), 10)\n",
    "    else:\n",
    "        return 0\n",
    "    \n",
    "def tf_idf_modified(word, doc, k):\n",
    "    \"\"\"\n",
    "    Nous avons utilisé une normalisation pour TF-IDF\"\"\"\n",
    "    tf, df = 0, 0\n",
    "    len_doc = len(split_words(doc))\n",
    "    value_word = 1/math.sqrt(len_doc)\n",
    "    value_word = math.sqrt(value_word)\n",
    "    len_word = len(word.split())\n",
    "    #len_word *= len_word\n",
    "    if word in str(doc):\n",
    "        tf = value_word*k/len_word\n",
    "    for doc_ in DATA:\n",
    "        if word in str(doc_):\n",
    "            df+=1\n",
    "    if df>0:\n",
    "        return tf*math.log(len(DATA)/(df), 10)\n",
    "    else:\n",
    "        return 0"
   ]
  }
 ],
 "metadata": {
  "kernelspec": {
   "display_name": "Python 3",
   "language": "python",
   "name": "python3"
  },
  "language_info": {
   "codemirror_mode": {
    "name": "ipython",
    "version": 3
   },
   "file_extension": ".py",
   "mimetype": "text/x-python",
   "name": "python",
   "nbconvert_exporter": "python",
   "pygments_lexer": "ipython3",
   "version": "3.6.3"
  }
 },
 "nbformat": 4,
 "nbformat_minor": 2
}
