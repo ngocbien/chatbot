{
 "cells": [
  {
   "cell_type": "code",
   "execution_count": 17,
   "metadata": {
    "collapsed": true
   },
   "outputs": [],
   "source": [
    "def date_time_():\n",
    "    \n",
    "    DICT_NUMERO = {'ce':1, 'cette':1, 'un':1, 'une':1, 'deux':2, 'trois':3,\\\n",
    "                   'quatre':4, 'cinq':5, 'six':6, 'sept':7,\\\n",
    "              'huit':8, 'neuf':9, 'dix':10, 'onze':11, 'douze':12, 'treize':13,'quartoze':14,\\\n",
    "               'cinze':15, 'seize':16, 'dix-sept':17,'dix sept':17, 'dix huit':18, \\\n",
    "               'dix-huit':18, 'dix-neuf':19, 'vingt':20, 'ving et un':21, 'trente':30, 'quarante':40,\\\n",
    "                  'quarante cinq':45, 'soixante':60}\n",
    "    DICT_TEMPS = {'heure':1,  'journée':24,  'jour':24, \\\n",
    "              'mois':30*24, 'semaine':7*24, \\\n",
    "              'an':24*365, 'année':24*365, 'minute': 1/60}\n",
    "    DICT_COMPLET_TEMPS = {}\n",
    "    for temps in DICT_TEMPS:\n",
    "        for numéro in DICT_NUMERO:\n",
    "            key1 = numéro + ' '+temps\n",
    "            key2 = str(DICT_NUMERO[numéro]) + ' ' +temps\n",
    "            value = DICT_NUMERO[numéro]*DICT_TEMPS[temps]\n",
    "            DICT_COMPLET_TEMPS[key1] = value\n",
    "            DICT_COMPLET_TEMPS[key2] = value\n",
    "    DICT_FOR_SPECIAL_CASE = {'aujourd\\'hui':8, 'hébdomadaire':7*24, 'annuel': 365*24, \\\n",
    "                           'hier': 24, 'avant-hier': 48, 'annuelle': 365*24 }\n",
    "    DICT_COMPLET_TEMPS['#cas_particulier#'] = DICT_FOR_SPECIAL_CASE\n",
    "    DICT_COMPLET_TEMPS['avant hier'] = 72\n",
    "    DICT_COMPLET_TEMPS['semaine dernière'] = 24*7\n",
    "    return DICT_COMPLET_TEMPS\n",
    "\n",
    "def _find_right_time(question, Dict):\n",
    "    \n",
    "    list_ = ['?', '.', ' ', '\\n', '!']\n",
    "    for symbol in list_:\n",
    "        question = question.lower().strip(symbol)\n",
    "    list_word = question.split()\n",
    "    if len(list_word) < 2:\n",
    "        return None   \n",
    "    for key in Dict:\n",
    "        if key in question:\n",
    "            return Dict[key]\n",
    "    for word in DICT_COMPLET_TEMPS['#cas_particulier#']:\n",
    "            return DICT_COMPLET_TEMPS['#cas_particulier#'][word]        \n",
    "    return None\n",
    "\n",
    "def _find_right_geography(question, Dict):\n",
    "    \"\"\"\n",
    "    Nous cherchons une ville, un département dans le dictionnaire pour retourner soit\n",
    "    ce nom de ce lieu, soit ses coordonnées correspondance. Le retour de ce donnée dépend \n",
    "    de quel façon nous allons traiter avec cette information.\n",
    "    \n",
    "    \"\"\"\n",
    "    list_ = ['?', '.', ' ', '\\n', '!']\n",
    "    for symbol in list_:\n",
    "        question = question.lower().strip(symbol) \n",
    "    list_geography = []\n",
    "    for word in question.split():\n",
    "        if word in Dict:\n",
    "            list_geography.append(word)\n",
    "    if len(list_geography) >0:\n",
    "        return list_geography\n",
    "    else:\n",
    "        return None\n",
    "\n",
    "\n",
    "def list_variable():\n",
    "    \"\"\"\n",
    "    list_var is to manually complete \"\"\"\n",
    "    list_var = []\n",
    "    if len(list_var) >0:\n",
    "        return list_var\n",
    "    else:\n",
    "        return None\n",
    "\n",
    "def _normalized_table():\n",
    "    \"\"\"\n",
    "    return a data frame with new name\n",
    "    \"\"\"\n",
    "    import pandas as pd\n",
    "    df = pd.read_csv('fleet_donnees.csv', sep = ';')\n",
    "    variable_names = list_variable()\n",
    "    if variable_names ==None:\n",
    "        return df\n",
    "    else:\n",
    "        name = list(df)\n",
    "        dict_name = {name[i]: variable_names[i] for i in range(len(name))}\n",
    "        df = df.rename(index= str, columns = dict_name)\n",
    "        return df\n",
    "\n",
    "def find_right_time_from_table(time, df):\n",
    "    \"\"\"\n",
    "    given time found from a question, match it with the time given in table\n",
    "    This depend on format of time in table.\n",
    "    \n",
    "    \"\"\"\n",
    "    return None\n",
    "    \n",
    "    \n",
    "def _get_data_from_table_(ids, variable, time):\n",
    "    \"\"\"\n",
    "    temps est un couple de début et fin\n",
    "    \"\"\"\n",
    "    df = _normalized_table()\n",
    "    time = find_right_time_from_table(time, df)\n",
    "    if variable is None:\n",
    "        return \"#TO_CONSTRUCT#\"\n",
    "        \n",
    "    \n",
    "    \n",
    "    if variable ==\"Tension Batterie\":\n",
    "        return min(df['Tension Batterie'])\n",
    "    time1 = time[0]\n",
    "    time2 = time[1]\n",
    "    if time1 is None:\n",
    "        time1 = string_to_datetime(df.iloc[0]['Debut période'])\n",
    "    if time2 is None:\n",
    "        time2 = string_to_datetime(df.iloc[len(df)-1]['Fin Période'])\n",
    "    if len(ids) !=0:\n",
    "        df = df.loc[(df['ID Véhicule'] ==  int(ids))] \n",
    "    List = []\n",
    "    for i in range(len(df)):\n",
    "        if string_to_datetime(df.iloc[i]['Debut période']) >=time1 and \\\n",
    "           string_to_datetime(df.iloc[i]['Fin Période'])<=time2:\n",
    "                List.append(i)\n",
    "\n",
    "    list_data_to_return = df.iloc[List][variable]\n",
    "    if len(list_data_to_return)>1:\n",
    "        t = sum(list_string_to_float(list_data_to_return))/len(list_data_to_return)\n",
    "    else:\n",
    "        t= list_data_to_return\n",
    "    return t\n",
    "        \n",
    "        "
   ]
  },
  {
   "cell_type": "markdown",
   "metadata": {},
   "source": [
    "méthode dateparser.search.search_dates retourne correctement les données de types un nombre + temps, mais pas d'ajectif possesif comme \"cette semaine\", \"ce jour\", \"cette année\". Il nous faut tourner ces adjectifs en nombre avant de traiter ces questions."
   ]
  },
  {
   "cell_type": "code",
   "execution_count": 3,
   "metadata": {},
   "outputs": [
    {
     "name": "stderr",
     "output_type": "stream",
     "text": [
      "/home/ubuntu/anaconda3/lib/python3.6/site-packages/matplotlib/__init__.py:1067: UserWarning: Duplicate key in file \"/home/ubuntu/.config/matplotlib/matplotlibrc\", line #2\n",
      "  (fname, cnt))\n",
      "/home/ubuntu/anaconda3/lib/python3.6/site-packages/matplotlib/__init__.py:1067: UserWarning: Duplicate key in file \"/home/ubuntu/.config/matplotlib/matplotlibrc\", line #3\n",
      "  (fname, cnt))\n"
     ]
    }
   ],
   "source": [
    "import time\n",
    "import re\n",
    "from dateparser.search import search_dates\n",
    "import pandas as pd\n",
    "DICT_COMPLET_TEMPS = date_time_()\n",
    "KEYWORD_TO_FUNCTION_DICT = {'#id#':'ID Véhicule','#km#':'Distance', '#batterie#':'Tension Batterie',\\\n",
    "                            '#vitesse#':'Vitesse Moyenne', '#carburant#': 'carburant', '#pneu#':'pneu',\\\n",
    "                           '#conduite#':'conduite', '#position#':'position'}\n",
    "def answers_with_data(question, answer):\n",
    "    data = _analyse_reponse(question, answer)\n",
    "    if data is None:\n",
    "        return answer\n",
    "    else:\n",
    "        index = 0\n",
    "        for word in answer.split():\n",
    "            if \"#\" in word:\n",
    "                good_answer = re.sub(word, str(data[index]), answer)\n",
    "                index +=1\n",
    "        return good_answer\n",
    "    \n",
    "                \n",
    "def _analyse_reponse(question, answer):\n",
    "    \"\"\"\n",
    "    arg: question is the question of user, reponse is given by chatbot\n",
    "\n",
    "    \"\"\"\n",
    "    if '#' not in answer:\n",
    "        return None\n",
    "    else:\n",
    "        parameter = []\n",
    "        for key in KEYWORD_TO_FUNCTION_DICT:\n",
    "            if key in answer.split():\n",
    "                parameter.append(key)\n",
    "        times = _find_right_time(question, DICT_COMPLET_TEMPS)\n",
    "        ids = find_ids(question)\n",
    "        variables = _get_variable(answer)\n",
    "        data = []\n",
    "        if len(variables)==0:\n",
    "            return None\n",
    "        else:\n",
    "            for variable in variables:\n",
    "                data.append(_get_data_from_table(ids, variable, times))\n",
    "            return data\n",
    "            \n",
    "def _get_variable(reponse):\n",
    "    list_variable =[]\n",
    "    for word in reponse.split():\n",
    "        if \"#\" in word:\n",
    "            list_variable.append(word)\n",
    "    return [KEYWORD_TO_FUNCTION_DICT[variable] for variable in list_variable\n",
    "               if variable in KEYWORD_TO_FUNCTION_DICT]\n",
    "\n",
    "    \n",
    "def _get_data_from_table(ids, variable, time):\n",
    "    \"\"\"\n",
    "    temps est un couple de début et fin\n",
    "    \"\"\"\n",
    "    df = pd.read_csv('fleet_donnees.csv', sep = ';')\n",
    "    #time1 = string_to_datetime(time[0])\n",
    "    #time2 = string_to_datetime(time[1])\n",
    "    if variable is None:\n",
    "        return \"#TO_CONSTRUCT#\"\n",
    "    if variable ==\"Tension Batterie\":\n",
    "        return min(df['Tension Batterie'])\n",
    "    time1 = time[0]\n",
    "    time2 = time[1]\n",
    "    if time1 is None:\n",
    "        time1 = string_to_datetime(df.iloc[0]['Debut période'])\n",
    "    if time2 is None:\n",
    "        time2 = string_to_datetime(df.iloc[len(df)-1]['Fin Période'])\n",
    "    if len(ids) !=0:\n",
    "        df = df.loc[(df['ID Véhicule'] ==  int(ids))] \n",
    "    List = []\n",
    "    for i in range(len(df)):\n",
    "        if string_to_datetime(df.iloc[i]['Debut période']) >=time1 and \\\n",
    "           string_to_datetime(df.iloc[i]['Fin Période'])<=time2:\n",
    "                List.append(i)\n",
    "\n",
    "    list_data_to_return = df.iloc[List][variable]\n",
    "    if len(list_data_to_return)>1:\n",
    "        t = sum(list_string_to_float(list_data_to_return))/len(list_data_to_return)\n",
    "    else:\n",
    "        t= list_data_to_return\n",
    "    return t\n",
    "        \n",
    "          \n",
    "def find_ids(question):\n",
    "    if 'tous' in question or 'toutes' in question or 'tout'in question or 'toute' in question:\n",
    "        return None\n",
    "    else:\n",
    "        return str(input('indiquez l\\'identifiant de ce véhicule:'))\n",
    "    \n",
    "\n",
    "def string_to_datetime(string):\n",
    "    t = search_dates(string)\n",
    "    t = t[0][1]\n",
    "    t = time.mktime(t.timetuple())\n",
    "    return t\n",
    "\n",
    "def list_string_to_float(List_string):\n",
    "    List = []\n",
    "    for string in List_string:\n",
    "        if type(string)==str:\n",
    "            string = re.sub(',', '.', string)\n",
    "        else:\n",
    "            pass\n",
    "        string2float  = float(string)\n",
    "        List.append(string2float)\n",
    "    return List\n",
    " \n",
    "    \n",
    "def find_good_time_in_table(begin_time, end_time):\n",
    "    \"\"\"\n",
    "    begin_time and end_time is in float type\n",
    "    return right begin_time and end_time in table\"\"\" \n",
    "    import pandas as pd\n",
    "    df = pd.read_csv('fleet_donnees.csv', sep = ';')\n",
    "    start_time_colone = df['Debut période']\n",
    "    end_time_colone = df['Fin Période']\n",
    "    start_time_table = []\n",
    "    for i in start_time_colone:\n",
    "        time,_=find_right_time(i)\n",
    "        start_time_table.append(time)\n",
    "    end_time_table = []\n",
    "    for i in fin_time_colone:\n",
    "        time, _ = find_right_time(i)\n",
    "        end_time_table.append(time)\n",
    "    start = start_time_table[-1]\n",
    "    for i in start_time_table:\n",
    "        if begin_time <= i:\n",
    "            start = i\n",
    "            break\n",
    "    end = end_time_table[-1]\n",
    "    for i in end_time_table:\n",
    "        if end <=i:\n",
    "            end = i\n",
    "            break\n",
    "    start = start_time_table.index(start)\n",
    "    end =  end_time_table.index(end)\n",
    "    start = start_time_colone[start]\n",
    "    end = _time_colone[end]\n",
    "    return start, end\n"
   ]
  },
  {
   "cell_type": "code",
   "execution_count": 20,
   "metadata": {
    "collapsed": true
   },
   "outputs": [],
   "source": [
    "question = 'combien de véhicules qui roulent cette semaine'\n",
    "a, b = find_right_time(question)"
   ]
  },
  {
   "cell_type": "code",
   "execution_count": 18,
   "metadata": {
    "collapsed": true
   },
   "outputs": [],
   "source": [
    "question = 'combien de véhicules qui roulent aujourd\\'hui'\n",
    "a1, b1 = find_right_time(question)"
   ]
  },
  {
   "cell_type": "code",
   "execution_count": 21,
   "metadata": {},
   "outputs": [
    {
     "data": {
      "text/plain": [
       "7.514115106198523"
      ]
     },
     "execution_count": 21,
     "metadata": {},
     "output_type": "execute_result"
    }
   ],
   "source": [
    "norm"
   ]
  },
  {
   "cell_type": "code",
   "execution_count": 19,
   "metadata": {},
   "outputs": [
    {
     "data": {
      "text/plain": [
       "7.514033025194098"
      ]
     },
     "execution_count": 19,
     "metadata": {},
     "output_type": "execute_result"
    }
   ],
   "source": [
    "(b1-a1)/(60*60*24)"
   ]
  },
  {
   "cell_type": "code",
   "execution_count": 9,
   "metadata": {},
   "outputs": [
    {
     "data": {
      "text/plain": [
       "(1530144000.0, 1530792962.5088363)"
      ]
     },
     "execution_count": 9,
     "metadata": {},
     "output_type": "execute_result"
    }
   ],
   "source": [
    "question = 'combien de véhicules qui roulent hier'\n",
    "find_right_time(question)"
   ]
  },
  {
   "cell_type": "code",
   "execution_count": 87,
   "metadata": {},
   "outputs": [
    {
     "name": "stdout",
     "output_type": "stream",
     "text": [
      "indiquez l'identifiant de ce véhicule:\n"
     ]
    },
    {
     "data": {
      "text/plain": [
       "'12.33'"
      ]
     },
     "execution_count": 87,
     "metadata": {},
     "output_type": "execute_result"
    }
   ],
   "source": [
    "import pandas as pd\n",
    "df = pd.read_csv('fleet_donnees.csv', sep = ';')\n",
    "list_name = "
   ]
  },
  {
   "cell_type": "code",
   "execution_count": 14,
   "metadata": {
    "collapsed": true
   },
   "outputs": [],
   "source": [
    "liste = list(df)\n",
    "diction = {liste[i]: list_name[i] for i in range(16)}"
   ]
  },
  {
   "cell_type": "code",
   "execution_count": 59,
   "metadata": {},
   "outputs": [
    {
     "name": "stdout",
     "output_type": "stream",
     "text": [
      "12\n"
     ]
    }
   ],
   "source": [
    "DICT_COMPLET_TEMPS = date_time_()\n",
    "question = 'combien de voiture aujourd\\'hui'\n",
    "for temps in DICT_COMPLET_TEMPS:\n",
    "    if temps in question:\n",
    "        print(DICT_COMPLET_TEMPS[temps])"
   ]
  },
  {
   "cell_type": "code",
   "execution_count": 16,
   "metadata": {
    "collapsed": true
   },
   "outputs": [],
   "source": [
    "def datetime_to_float(d):\n",
    "    import datetime\n",
    "    epoch = datetime.datetime.utcfromtimestamp(0)\n",
    "    total_seconds =  (d - epoch).total_seconds()\n",
    "    return total_seconds\n",
    "def float_to_datetime(fl):\n",
    "    return datetime.datetime.fromtimestamp(fl)"
   ]
  },
  {
   "cell_type": "code",
   "execution_count": 73,
   "metadata": {},
   "outputs": [
    {
     "name": "stdout",
     "output_type": "stream",
     "text": [
      "indiquez l'identifiant de ce véhicule:\n"
     ]
    },
    {
     "data": {
      "text/plain": [
       "'\"#check_batterie#\"'"
      ]
     },
     "execution_count": 73,
     "metadata": {},
     "output_type": "execute_result"
    }
   ],
   "source": [
    "answers_with_data('aldlc mazfq', '\"#check_batterie#\"')"
   ]
  },
  {
   "cell_type": "code",
   "execution_count": 51,
   "metadata": {
    "collapsed": true
   },
   "outputs": [],
   "source": [
    "import dateparser\n",
    "from dateparser.search import search_dates"
   ]
  },
  {
   "cell_type": "code",
   "execution_count": 1,
   "metadata": {
    "collapsed": true
   },
   "outputs": [],
   "source": [
    "import parsedatetime"
   ]
  },
  {
   "cell_type": "code",
   "execution_count": 3,
   "metadata": {
    "collapsed": true
   },
   "outputs": [],
   "source": [
    "cal = parsedatetime.Calendar()"
   ]
  },
  {
   "cell_type": "code",
   "execution_count": 10,
   "metadata": {},
   "outputs": [
    {
     "data": {
      "text/plain": [
       "(time.struct_time(tm_year=2018, tm_mon=6, tm_mday=5, tm_hour=14, tm_min=28, tm_sec=49, tm_wday=1, tm_yday=156, tm_isdst=0),\n",
       " 0)"
      ]
     },
     "execution_count": 10,
     "metadata": {},
     "output_type": "execute_result"
    }
   ],
   "source": [
    "cal.parse(\" je vais  chez un ami demain matin\")"
   ]
  },
  {
   "cell_type": "code",
   "execution_count": 11,
   "metadata": {},
   "outputs": [
    {
     "data": {
      "text/plain": [
       "(time.struct_time(tm_year=2018, tm_mon=6, tm_mday=5, tm_hour=14, tm_min=29, tm_sec=17, tm_wday=1, tm_yday=156, tm_isdst=0),\n",
       " 0)"
      ]
     },
     "execution_count": 11,
     "metadata": {},
     "output_type": "execute_result"
    }
   ],
   "source": [
    "cal.parse(\"combien de km cette semaine\")"
   ]
  },
  {
   "cell_type": "code",
   "execution_count": 12,
   "metadata": {},
   "outputs": [
    {
     "data": {
      "text/plain": [
       "(time.struct_time(tm_year=2018, tm_mon=6, tm_mday=5, tm_hour=14, tm_min=30, tm_sec=3, tm_wday=1, tm_yday=156, tm_isdst=0),\n",
       " 0)"
      ]
     },
     "execution_count": 12,
     "metadata": {},
     "output_type": "execute_result"
    }
   ],
   "source": [
    "cal.parse(\"cette voiture a roulé pendant 3 heures\")"
   ]
  },
  {
   "cell_type": "code",
   "execution_count": 14,
   "metadata": {},
   "outputs": [
    {
     "data": {
      "text/plain": [
       "(time.struct_time(tm_year=2018, tm_mon=6, tm_mday=11, tm_hour=14, tm_min=31, tm_sec=38, tm_wday=0, tm_yday=162, tm_isdst=-1),\n",
       " 1)"
      ]
     },
     "execution_count": 14,
     "metadata": {},
     "output_type": "execute_result"
    }
   ],
   "source": [
    "cal.parse(\"combien de km mon véhicule a parouru pour pendant 3 jours\")"
   ]
  },
  {
   "cell_type": "code",
   "execution_count": 2,
   "metadata": {},
   "outputs": [
    {
     "name": "stdout",
     "output_type": "stream",
     "text": [
      "Uninstalling pandas-0.20.3:\n",
      "  Would remove:\n",
      "    /Users/NhatMinh/anaconda3/lib/python3.6/site-packages/pandas\n",
      "    /Users/NhatMinh/anaconda3/lib/python3.6/site-packages/pandas-0.20.3-py3.6.egg-info\n",
      "Proceed (y/n)? ^C\n",
      "\u001b[31mOperation cancelled by user\u001b[0m\n"
     ]
    }
   ],
   "source": [
    "import sys\n",
    "!{sys.executable} -m pip uninstall pandas"
   ]
  },
  {
   "cell_type": "code",
   "execution_count": 1,
   "metadata": {},
   "outputs": [
    {
     "ename": "ImportError",
     "evalue": "Missing required dependencies ['numpy']",
     "output_type": "error",
     "traceback": [
      "\u001b[0;31m---------------------------------------------------------------------------\u001b[0m",
      "\u001b[0;31mImportError\u001b[0m                               Traceback (most recent call last)",
      "\u001b[0;32m<ipython-input-1-d670d870f7bc>\u001b[0m in \u001b[0;36m<module>\u001b[0;34m()\u001b[0m\n\u001b[0;32m----> 1\u001b[0;31m \u001b[0;32mimport\u001b[0m \u001b[0mpandas\u001b[0m \u001b[0;32mas\u001b[0m \u001b[0mpd\u001b[0m\u001b[0;34m\u001b[0m\u001b[0m\n\u001b[0m\u001b[1;32m      2\u001b[0m \u001b[0mdf\u001b[0m \u001b[0;34m=\u001b[0m \u001b[0mpd\u001b[0m\u001b[0;34m.\u001b[0m\u001b[0mread_csv\u001b[0m\u001b[0;34m(\u001b[0m\u001b[0;34m'fleet_donnees.csv'\u001b[0m\u001b[0;34m,\u001b[0m \u001b[0msep\u001b[0m \u001b[0;34m=\u001b[0m \u001b[0;34m';'\u001b[0m\u001b[0;34m)\u001b[0m\u001b[0;34m\u001b[0m\u001b[0m\n\u001b[1;32m      3\u001b[0m \u001b[0mdf\u001b[0m\u001b[0;34m\u001b[0m\u001b[0m\n",
      "\u001b[0;32m~/anaconda3/lib/python3.6/site-packages/pandas/__init__.py\u001b[0m in \u001b[0;36m<module>\u001b[0;34m()\u001b[0m\n\u001b[1;32m     17\u001b[0m \u001b[0;32mif\u001b[0m \u001b[0mmissing_dependencies\u001b[0m\u001b[0;34m:\u001b[0m\u001b[0;34m\u001b[0m\u001b[0m\n\u001b[1;32m     18\u001b[0m     raise ImportError(\n\u001b[0;32m---> 19\u001b[0;31m         \"Missing required dependencies {0}\".format(missing_dependencies))\n\u001b[0m\u001b[1;32m     20\u001b[0m \u001b[0;32mdel\u001b[0m \u001b[0mhard_dependencies\u001b[0m\u001b[0;34m,\u001b[0m \u001b[0mdependency\u001b[0m\u001b[0;34m,\u001b[0m \u001b[0mmissing_dependencies\u001b[0m\u001b[0;34m\u001b[0m\u001b[0m\n\u001b[1;32m     21\u001b[0m \u001b[0;34m\u001b[0m\u001b[0m\n",
      "\u001b[0;31mImportError\u001b[0m: Missing required dependencies ['numpy']"
     ]
    }
   ],
   "source": [
    "import pandas as pd\n",
    "df = pd.read_csv('fleet_donnees.csv', sep = ';')\n",
    "df"
   ]
  },
  {
   "cell_type": "code",
   "execution_count": 281,
   "metadata": {
    "collapsed": true
   },
   "outputs": [],
   "source": [
    "times = find_right_time('combien voiture 6 mois')"
   ]
  },
  {
   "cell_type": "code",
   "execution_count": 321,
   "metadata": {},
   "outputs": [
    {
     "name": "stdout",
     "output_type": "stream",
     "text": [
      "4\n"
     ]
    }
   ],
   "source": [
    "def func(a):\n",
    "    if a >1:\n",
    "        return a*a\n",
    "    a= a+5\n",
    "    print('a')\n",
    "    return a\n",
    "print(func(2))\n",
    "        "
   ]
  },
  {
   "cell_type": "code",
   "execution_count": 67,
   "metadata": {},
   "outputs": [
    {
     "data": {
      "text/plain": [
       "12.33"
      ]
     },
     "execution_count": 67,
     "metadata": {},
     "output_type": "execute_result"
    }
   ],
   "source": [
    "min(df['Tension Batterie'])"
   ]
  },
  {
   "cell_type": "code",
   "execution_count": 316,
   "metadata": {},
   "outputs": [
    {
     "data": {
      "text/plain": [
       "71.6575"
      ]
     },
     "execution_count": 316,
     "metadata": {},
     "output_type": "execute_result"
    }
   ],
   "source": [
    "_get_data_from_table(73426, 'Vitesse Moyenne', times)"
   ]
  },
  {
   "cell_type": "code",
   "execution_count": 63,
   "metadata": {},
   "outputs": [
    {
     "name": "stdout",
     "output_type": "stream",
     "text": [
      "indiquez l'identifiant de ce véhicule:714448\n"
     ]
    },
    {
     "data": {
      "text/plain": [
       "'2304.9516775 '"
      ]
     },
     "execution_count": 63,
     "metadata": {},
     "output_type": "execute_result"
    }
   ],
   "source": [
    "question = 'distance de voiture afemjoegj'\n",
    "answer = '#km# '\n",
    "answers_with_data(question, answer)"
   ]
  },
  {
   "cell_type": "code",
   "execution_count": 309,
   "metadata": {
    "collapsed": true
   },
   "outputs": [],
   "source": [
    "variable = 'Vitesse Moyenne'\n",
    "List = [1, 2, 5]\n",
    "list_data_to_return = df.iloc[List][variable]"
   ]
  },
  {
   "cell_type": "code",
   "execution_count": 314,
   "metadata": {},
   "outputs": [
    {
     "data": {
      "text/plain": [
       "True"
      ]
     },
     "execution_count": 314,
     "metadata": {},
     "output_type": "execute_result"
    }
   ],
   "source": [
    "type('abbc')==str"
   ]
  }
 ],
 "metadata": {
  "kernelspec": {
   "display_name": "Python 3",
   "language": "python",
   "name": "python3"
  },
  "language_info": {
   "codemirror_mode": {
    "name": "ipython",
    "version": 3
   },
   "file_extension": ".py",
   "mimetype": "text/x-python",
   "name": "python",
   "nbconvert_exporter": "python",
   "pygments_lexer": "ipython3",
   "version": "3.6.3"
  }
 },
 "nbformat": 4,
 "nbformat_minor": 2
}
