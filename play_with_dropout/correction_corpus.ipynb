{
 "cells": [
  {
   "cell_type": "code",
   "execution_count": 26,
   "metadata": {},
   "outputs": [],
   "source": [
    "from __future__ import unicode_literals, print_function, division\n",
    "from nltk.corpus import stopwords\n",
    "from nltk.stem import *\n",
    "from nltk.stem.porter import *\n",
    "from nltk.stem.snowball import SnowballStemmer\n",
    "stemmer = SnowballStemmer(\"french\", ignore_stopwords = False)\n",
    "import csv\n",
    "import re\n",
    "from io import open\n",
    "import unicodedata\n",
    "import string\n",
    "import re\n",
    "import random\n",
    "import os\n",
    "import math\n",
    "import time\n",
    "from dateparser.search import search_dates\n",
    "import pandas as pd\n",
    "import data_processed\n",
    "import config\n",
    "\n",
    "\n",
    "def make_new_conversation():\n",
    "    path = os.path.join('data', 'new_conversation')\n",
    "    f= open(path,\"a+\")\n",
    "    while True:\n",
    "        you = str(input('question: '))\n",
    "        you = you.strip()\n",
    "        len1 = len(you)\n",
    "        you = 'YOU ++++ '+ you + '\\n'\n",
    "        bot = str(input('Bot: '))\n",
    "        bot = bot.strip()\n",
    "        len2 = len(bot)\n",
    "        bot = 'BOT ++++ '+ bot + '\\n'\n",
    "        if len1>1 and len2 >1:\n",
    "            f.write(you)\n",
    "            f.write(bot)\n",
    "        else:\n",
    "            print('au revoir')\n",
    "            break\n",
    "    f.close()\n",
    "def correction_of_corpus():"
   ]
  },
  {
   "cell_type": "code",
   "execution_count": 32,
   "metadata": {},
   "outputs": [
    {
     "name": "stdout",
     "output_type": "stream",
     "text": [
      "question: combien de voiture en route\n",
      "Bot: salut\n",
      "question: \n",
      "Bot: \n",
      "au revoir\n"
     ]
    }
   ],
   "source": [
    "make_new_conversation()"
   ]
  }
 ],
 "metadata": {
  "kernelspec": {
   "display_name": "Python 3",
   "language": "python",
   "name": "python3"
  },
  "language_info": {
   "codemirror_mode": {
    "name": "ipython",
    "version": 3
   },
   "file_extension": ".py",
   "mimetype": "text/x-python",
   "name": "python",
   "nbconvert_exporter": "python",
   "pygments_lexer": "ipython3",
   "version": "3.6.4"
  }
 },
 "nbformat": 4,
 "nbformat_minor": 2
}
