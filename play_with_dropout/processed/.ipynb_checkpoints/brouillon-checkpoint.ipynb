{
 "cells": [
  {
   "cell_type": "code",
   "execution_count": 10,
   "metadata": {},
   "outputs": [
    {
     "data": {
      "text/markdown": [
       "## Pour lancer un chat, il suffit de taper en même temps CTRL et ENTER"
      ],
      "text/plain": [
       "<IPython.core.display.Markdown object>"
      ]
     },
     "metadata": {},
     "output_type": "display_data"
    },
    {
     "data": {
      "text/markdown": [
       "## Pour arrêter le mode chat, il suffit de taper ENTER dans votre conversation"
      ],
      "text/plain": [
       "<IPython.core.display.Markdown object>"
      ]
     },
     "metadata": {},
     "output_type": "display_data"
    },
    {
     "name": "stdout",
     "output_type": "stream",
     "text": [
      "Reading lines...\n",
      "Reading lines...\n",
      "Read 383 sentence pairs\n",
      "Trimmed to 375 sentence pairs\n",
      "Counting words...\n",
      "Counted words:\n",
      "questions 484\n",
      "answers 734\n",
      "Reading the parameters from check_point...\n",
      "Bonjour, c'est le Bot d'AVICEN, dites ce que vous voulez: \n",
      "Vous: bonjpour\n"
     ]
    },
    {
     "name": "stderr",
     "output_type": "stream",
     "text": [
      "/home/ubuntu/notebook/chatbot_16_mai_2018/TP_MGP/CHATBOT.py:187: UserWarning: Implicit dimension choice for softmax has been deprecated. Change the call to include dim=X as an argument.\n",
      "  self.attn(torch.cat((embedded[0], hidden[0]), 1)))#, dim=1)\n",
      "/home/ubuntu/notebook/chatbot_16_mai_2018/TP_MGP/CHATBOT.py:198: UserWarning: Implicit dimension choice for log_softmax has been deprecated. Change the call to include dim=X as an argument.\n",
      "  output = F.log_softmax(self.out(output[0]))#, dim=1)\n"
     ]
    },
    {
     "name": "stdout",
     "output_type": "stream",
     "text": [
      "Bot AVICEN:  le montant société besoin\n",
      "--------------------------------------------------\n",
      "Vous: bonjour\n",
      "Bot AVICEN:  bonjour\n",
      "--------------------------------------------------\n",
      "Vous: bonjour\n",
      "Bot AVICEN:  bonjour\n",
      "--------------------------------------------------\n",
      "Vous: je veux ma voiture\n",
      "Bot AVICEN:  la liste véhicules véhicule sera\n",
      "--------------------------------------------------\n",
      "Vous: je veux ma voiture\n",
      "Bot AVICEN:  la liste dont véhicule\n",
      "--------------------------------------------------\n",
      "Vous: je veux ma voiture\n",
      "Bot AVICEN:  la liste codes disposons #code_dtc#\n",
      "--------------------------------------------------\n",
      "Vous: je veux ma voiture\n",
      "Bot AVICEN:  la liste codes à #code_dtc#\n",
      "--------------------------------------------------\n",
      "Vous: je veux ma voiture\n",
      "Bot AVICEN:  la liste codes à conduite disponibles\n",
      "--------------------------------------------------\n",
      "Vous: je veux ma voiture\n",
      "Bot AVICEN:  la liste véhicule #listing_vin#\n",
      "--------------------------------------------------\n",
      "Vous: je veux ma voiture\n",
      "Bot AVICEN:  la liste codes véhicule sera\n",
      "--------------------------------------------------\n",
      "Vous: je veux ma voiture\n",
      "Bot AVICEN:  la liste véhicule #listing_vin#\n",
      "--------------------------------------------------\n",
      "Vous: je veux ma voiture\n",
      "Bot AVICEN:  la liste codes à véhicule\n",
      "--------------------------------------------------\n",
      "Vous: je veux ma voiture\n",
      "Bot AVICEN:  la liste codes disposons disponibles\n",
      "--------------------------------------------------\n",
      "Vous: je veux ma voiture\n",
      "Bot AVICEN:  la liste codes dont disponibles\n",
      "--------------------------------------------------\n",
      "Vous: \n"
     ]
    }
   ],
   "source": [
    "from IPython.display import display, Markdown\n",
    "import CHATBOT\n",
    "from CHATBOT import EncoderRNN\n",
    "from CHATBOT import AttnDecoderRNN\n",
    "from CHATBOT import Lang\n",
    "display(Markdown(\"## Pour lancer un chat, il suffit de taper en même temps CTRL et ENTER\"))\n",
    "display(Markdown(\"## Pour arrêter le mode chat, il suffit de taper ENTER dans votre conversation\"))\n",
    "input_lang, output_lang, pairs = CHATBOT.readLangs('questions', 'answers', False)\n",
    "pairs = CHATBOT.TrimWords(pairs) \n",
    "input_lang, output_lang, pairs = CHATBOT.prepareData('questions', 'answers', False)\n",
    "encoder, decoder = CHATBOT.restore_model()\n",
    "CHATBOT.chat(encoder,decoder, input_lang, output_lang)"
   ]
  },
  {
   "cell_type": "code",
   "execution_count": 8,
   "metadata": {},
   "outputs": [
    {
     "name": "stdout",
     "output_type": "stream",
     "text": [
      "Bonjour, c'est le Bot d'AVICEN, dites ce que vous voulez: \n",
      "Vous: ma voiture\n"
     ]
    },
    {
     "name": "stderr",
     "output_type": "stream",
     "text": [
      "/home/ubuntu/notebook/chatbot_16_mai_2018/TP_MGP/CHATBOT.py:187: UserWarning: Implicit dimension choice for softmax has been deprecated. Change the call to include dim=X as an argument.\n",
      "  self.attn(torch.cat((embedded[0], hidden[0]), 1)))#, dim=1)\n",
      "/home/ubuntu/notebook/chatbot_16_mai_2018/TP_MGP/CHATBOT.py:198: UserWarning: Implicit dimension choice for log_softmax has been deprecated. Change the call to include dim=X as an argument.\n",
      "  output = F.log_softmax(self.out(output[0]))#, dim=1)\n"
     ]
    },
    {
     "name": "stdout",
     "output_type": "stream",
     "text": [
      "Bot AVICEN:  le descriptif détaillé store\n",
      "--------------------------------------------------\n",
      "Vous: ma voiture\n",
      "Bot AVICEN:  le valeur rachat véhicule store\n",
      "--------------------------------------------------\n",
      "Vous: ma voiture\n",
      "Bot AVICEN:  le descriptif détaillé tous modules disponible store\n",
      "--------------------------------------------------\n",
      "Vous: ma voiture\n",
      "Bot AVICEN:  le descriptif détaillé store\n",
      "--------------------------------------------------\n",
      "Vous: ma voiture\n",
      "Bot AVICEN:  le descriptif détaillé store\n",
      "--------------------------------------------------\n",
      "Vous: ma voiture\n",
      "Bot AVICEN:  le descriptif détaillé store\n",
      "--------------------------------------------------\n",
      "Vous: ma voiture\n",
      "Bot AVICEN:  le descriptif détaillé tous lors véhicule\n",
      "--------------------------------------------------\n",
      "Vous: MA VOITURE\n",
      "Bot AVICEN:  le descriptif détaillé tous modules disponible store\n",
      "--------------------------------------------------\n",
      "Vous: \n"
     ]
    }
   ],
   "source": [
    "CHATBOT.chat(encoder, decoder, input_lang, output_lang)"
   ]
  }
 ],
 "metadata": {
  "kernelspec": {
   "display_name": "Environment (conda_pytorch_p36)",
   "language": "python",
   "name": "conda_pytorch_p36"
  },
  "language_info": {
   "codemirror_mode": {
    "name": "ipython",
    "version": 3
   },
   "file_extension": ".py",
   "mimetype": "text/x-python",
   "name": "python",
   "nbconvert_exporter": "python",
   "pygments_lexer": "ipython3",
   "version": "3.6.5"
  }
 },
 "nbformat": 4,
 "nbformat_minor": 2
}
