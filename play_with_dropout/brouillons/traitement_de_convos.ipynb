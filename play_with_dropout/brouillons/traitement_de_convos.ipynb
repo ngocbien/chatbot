{
 "cells": [
  {
   "cell_type": "code",
   "execution_count": 1,
   "metadata": {},
   "outputs": [],
   "source": [
    "import config\n",
    "import os\n",
    "import re"
   ]
  },
  {
   "cell_type": "code",
   "execution_count": 18,
   "metadata": {},
   "outputs": [
    {
     "name": "stdout",
     "output_type": "stream",
     "text": [
      "anh (khong) $xung$ la bien xanh\n"
     ]
    }
   ],
   "source": [
    "text = 'anh (khong) $xung$ la bien xanh'\n",
    "#text.replace(re.findall(r'\\$(.*?)\\$', text),'').replace('$','')\n",
    "text_var = re.findall(r'\\((.*?)\\)', text)\n",
    "line = []\n",
    "for word in text.split( ):\n",
    "    if word not in text_var:\n",
    "        line.append(word)\n",
    "print(' '.join(line))\n",
    "        "
   ]
  },
  {
   "cell_type": "code",
   "execution_count": 65,
   "metadata": {},
   "outputs": [
    {
     "data": {
      "text/plain": [
       "['anh | ', 'khong', ' xung | la bien |xanh']"
      ]
     },
     "execution_count": 65,
     "metadata": {},
     "output_type": "execute_result"
    }
   ],
   "source": [
    "text = 'anh | (khong) xung | la bien |xanh'\n",
    "re.split(\"[()]\",text)"
   ]
  },
  {
   "cell_type": "code",
   "execution_count": 68,
   "metadata": {
    "scrolled": false
   },
   "outputs": [],
   "source": [
    "i = 0\n",
    "lines = []\n",
    "with open('thes_fr.txt') as f:\n",
    "    for line in f:\n",
    "        line = re.split(\"[()]\",line)[-1]\n",
    "        line = line.strip().split('|')\n",
    "        line = [i for i in line if i != '1' and len(i) !=0 ]\n",
    "        lines.append(line)"
   ]
  },
  {
   "cell_type": "code",
   "execution_count": 73,
   "metadata": {
    "scrolled": true
   },
   "outputs": [
    {
     "name": "stdout",
     "output_type": "stream",
     "text": [
      "['qui', 'dont', 'que', 'lequel', 'lesquels', 'lesquelles', 'auquel', 'à laquelle', 'auxquels', 'auxquelles', 'duquel', 'de laquelle', 'desquels', 'desquelles', 'quoi', 'quiconque', 'quel', 'quelle', 'quels']\n",
      "['qui', 'dont', 'lesquelles', 'lépreux', 'léproserie', 'leptocéphale', 'lerche', 'les', 'lès', 'léser', 'lésine', 'lésiner', 'que', 'laquelle', 'lesquels', 'auquel', 'à laquelle', 'auxquels', 'auxquelles', 'duquel', 'de laquelle', 'desquels', 'desquelles', 'quoi', 'quiconque', 'quel', 'quelle', 'quels']\n",
      "['lépreux', 'léproserie', 'leptocéphale', 'lequel', 'lerche', 'les', 'lès', 'léser', 'lésine', 'lésiner', 'que', 'laquelle', 'lesquels', 'auquel', 'à laquelle', 'auxquels', 'auxquelles', 'duquel', 'de laquelle', 'desquels', 'desquelles', 'quoi', 'quel', 'quelle', 'quels']\n",
      "['qui', 'dont', 'que', 'lequel', 'laquelle', 'lesquelles', 'auquel', 'à laquelle', 'auxquels', 'auxquelles', 'duquel', 'de laquelle', 'desquels', 'desquelles', 'quoi', 'quel', 'quelle', 'quels']\n",
      "['quoi', 'laquelle', 'lequel', 'lesquelles', 'lesquels', 'quelle', 'quels']\n",
      "['quoi', 'laquelle', 'lequel', 'lesquelles', 'lesquels', 'quel', 'quels']\n",
      "['quels']\n",
      "['que', 'que', 'lequel', 'laquelle', 'lesquels', 'lesquelles', 'auquel', 'à laquelle', 'auxquels', 'auxquelles', 'duquel', 'de laquelle', 'desquels', 'desquelles', 'quel', 'quelle', 'quels']\n"
     ]
    }
   ],
   "source": [
    "for line in lines:\n",
    "    if 'quels' in line:\n",
    "        print(line)"
   ]
  },
  {
   "cell_type": "code",
   "execution_count": 40,
   "metadata": {},
   "outputs": [
    {
     "data": {
      "text/plain": [
       "'anh khong |xung 1 anh '"
      ]
     },
     "execution_count": 40,
     "metadata": {},
     "output_type": "execute_result"
    }
   ],
   "source": [
    "line = ' |anh khong |xung 1 anh 1 '\n",
    "line.strip().strip('|').strip('1')"
   ]
  },
  {
   "cell_type": "code",
   "execution_count": 28,
   "metadata": {},
   "outputs": [
    {
     "data": {
      "text/plain": [
       "['anh khong ', ' co j']"
      ]
     },
     "execution_count": 28,
     "metadata": {},
     "output_type": "execute_result"
    }
   ],
   "source": [
    "a='anh khong | co j\\n'\n",
    "a.strip().split('|')"
   ]
  },
  {
   "cell_type": "code",
   "execution_count": null,
   "metadata": {},
   "outputs": [],
   "source": []
  },
  {
   "cell_type": "code",
   "execution_count": null,
   "metadata": {},
   "outputs": [],
   "source": []
  },
  {
   "cell_type": "code",
   "execution_count": null,
   "metadata": {},
   "outputs": [],
   "source": []
  },
  {
   "cell_type": "code",
   "execution_count": null,
   "metadata": {},
   "outputs": [],
   "source": []
  },
  {
   "cell_type": "code",
   "execution_count": null,
   "metadata": {},
   "outputs": [],
   "source": []
  },
  {
   "cell_type": "code",
   "execution_count": null,
   "metadata": {},
   "outputs": [],
   "source": []
  },
  {
   "cell_type": "code",
   "execution_count": null,
   "metadata": {},
   "outputs": [],
   "source": []
  },
  {
   "cell_type": "code",
   "execution_count": null,
   "metadata": {},
   "outputs": [],
   "source": []
  },
  {
   "cell_type": "code",
   "execution_count": null,
   "metadata": {},
   "outputs": [],
   "source": []
  },
  {
   "cell_type": "code",
   "execution_count": null,
   "metadata": {},
   "outputs": [],
   "source": []
  },
  {
   "cell_type": "code",
   "execution_count": null,
   "metadata": {},
   "outputs": [],
   "source": []
  },
  {
   "cell_type": "code",
   "execution_count": null,
   "metadata": {},
   "outputs": [],
   "source": []
  },
  {
   "cell_type": "code",
   "execution_count": null,
   "metadata": {},
   "outputs": [],
   "source": []
  },
  {
   "cell_type": "code",
   "execution_count": null,
   "metadata": {},
   "outputs": [],
   "source": []
  },
  {
   "cell_type": "code",
   "execution_count": null,
   "metadata": {},
   "outputs": [],
   "source": []
  },
  {
   "cell_type": "code",
   "execution_count": 31,
   "metadata": {},
   "outputs": [],
   "source": [
    "stop_word = ['?','.','!', ':']\n",
    "question , answer = [], []\n",
    "with open(os.path.join(config.CHECK_POINT_PATH,config.OUTPUT_FILE)) as f:\n",
    "        for line in f:\n",
    "            line = str(line)\n",
    "            if 'BOT ++++' in line:\n",
    "                line=line[9:]\n",
    "                #line = re.sub('BOT ++++', '', line)\n",
    "                pharse = []\n",
    "                for word in line.strip().lower().split():\n",
    "                    if len(word)>0 and word not in stop_word:\n",
    "                        pharse.append(word)\n",
    "                if len(pharse)>0:\n",
    "                     answer.append(pharse)\n",
    "            else:\n",
    "                line = line[9:]\n",
    "                #line = re.sub('VOUS ++++', '', line)\n",
    "                pharse = []\n",
    "                for word in line.strip().lower().split():\n",
    "                    if len(word)>0 and word not in stop_word:\n",
    "                        pharse.append(word)\n",
    "                if len(pharse)>0:\n",
    "                    question.append(pharse)\n",
    "          "
   ]
  },
  {
   "cell_type": "code",
   "execution_count": 32,
   "metadata": {
    "scrolled": true
   },
   "outputs": [
    {
     "data": {
      "text/plain": [
       "[['je', 'veux', 'ma', 'voiture'],\n",
       " ['je', 'veux', 'ma', 'voiture'],\n",
       " ['je', 'veux', 'ma', 'voiture'],\n",
       " ['je', 'veux', 'ma', 'voiture'],\n",
       " ['je', 'veux', 'ma', 'voiture'],\n",
       " ['je', 'veux', 'ma', 'voiture'],\n",
       " ['je', 'veux', 'ma', 'voiture'],\n",
       " ['je', 'veux', 'ma', 'voiture'],\n",
       " ['je', 'veux', 'mon', 'véhicule'],\n",
       " ['je', 'veux', 'mon', 'véhicule'],\n",
       " ['je', 'veux', 'mon', 'véhicule'],\n",
       " ['je', 'veux', 'mon', 'véhicule'],\n",
       " ['je', 'veux', 'mon', 'véhicule'],\n",
       " ['je', 'veux', 'mon', 'véhicule'],\n",
       " ['je', 'veux', 'mon', 'véhicule'],\n",
       " ['je', 'veux', 'mon', 'véhicule'],\n",
       " ['je', 'veux', 'mon', 'véhicule'],\n",
       " ['je', 'veux', 'mon', 'véhicule'],\n",
       " ['je', 'veux', 'mon', 'véhicule'],\n",
       " ['je', 'veux', 'ma', 'voiture'],\n",
       " ['je', 'veux', 'ma', 'voiture'],\n",
       " ['je', 'veux', 'ma', 'voiture'],\n",
       " ['je', 'veux', 'une', 'voiture'],\n",
       " ['je', 'veux', 'une', 'voiture'],\n",
       " ['je', 'veux', 'un', 'véhicule'],\n",
       " ['je', 'veux', 'un', 'véhicule'],\n",
       " ['je', 'veux', 'un', 'véhicule'],\n",
       " ['je', 'veux', 'ma', 'voiture'],\n",
       " ['je', 'veux', 'une', 'voitue'],\n",
       " ['je', 'veux', 'une', 'voiture'],\n",
       " ['je', 'veux', 'une', 'voiture'],\n",
       " ['je', 'veux', 'un', 'véhicule'],\n",
       " ['je', 'veux', 'mon', 'véhicule'],\n",
       " ['je', 'veux', 'mon', 'véhicule'],\n",
       " ['je', 'voudrais', 'un', 'véhicule'],\n",
       " ['avons', 'nous', 'des', 'véhicules', 'à', \"l'étranger\"],\n",
       " ['combien', 'de', 'véhicules', 'à', \"l'étranger\"],\n",
       " ['combien', 'de', 'véhicules', 'qui', 'roulent'],\n",
       " ['bonjour'],\n",
       " ['je', 'veux', 'une', 'voiture'],\n",
       " ['je', 'veux', 'une', 'voiture'],\n",
       " ['je', 'veux', 'une', 'voiture'],\n",
       " ['bonjour'],\n",
       " ['bonjour'],\n",
       " ['je', 'cherche', 'une', 'voiture'],\n",
       " ['bonjour'],\n",
       " ['combien', 'de', 'véhicules', 'qui', 'roulent'],\n",
       " ['combien', 'de', 'véhicules', 'qui', 'est', 'à', \"l'arrêt\"],\n",
       " ['combien', 'de', 'km', 'mon', 'véhicule', 'a', 'roulé', 'ce', 'mois'],\n",
       " ['combien',\n",
       "  'de',\n",
       "  'km',\n",
       "  'mon',\n",
       "  'véhicule',\n",
       "  'est',\n",
       "  'roulé',\n",
       "  'cette',\n",
       "  'semaine'],\n",
       " ['combien',\n",
       "  'de',\n",
       "  'km',\n",
       "  'mon',\n",
       "  'véhicule',\n",
       "  'est',\n",
       "  'roulé',\n",
       "  'pendant',\n",
       "  'ces',\n",
       "  '3',\n",
       "  'derniers',\n",
       "  'mois'],\n",
       " ['bonjour'],\n",
       " ['comme', 'vas', 'tu'],\n",
       " ['je', 'veux', 'ma', 'voiture'],\n",
       " ['je', 'veux', 'mon', 'véhicule'],\n",
       " ['je', 'veux', 'mon', 'véhicule'],\n",
       " ['je', 'veux', 'mon', 'véhicule'],\n",
       " ['je', 'veux', 'ma', 'voiture'],\n",
       " ['bonjour'],\n",
       " ['je', 'veux', 'ma', 'voiture'],\n",
       " ['où', 'est', 'ma', 'voiture'],\n",
       " ['où', 'est', 'mon', 'véhicule'],\n",
       " ['je', 'suis', 'coincé']]"
      ]
     },
     "execution_count": 32,
     "metadata": {},
     "output_type": "execute_result"
    }
   ],
   "source": [
    "question"
   ]
  },
  {
   "cell_type": "code",
   "execution_count": 26,
   "metadata": {
    "collapsed": true
   },
   "outputs": [
    {
     "name": "stdout",
     "output_type": "stream",
     "text": [
      "['je', 'veux', 'ma', 'voiture']\n",
      "['nous', 'pouvons', 'vous', 'accompagner', 'de', 'manière']\n",
      "['je', 'veux', 'ma', 'voiture']\n",
      "['nous', 'pouvons', 'vous', 'servir', 'du']\n",
      "['je', 'veux', 'ma', 'voiture']\n",
      "['nous', 'pouvons', 'vous', 'accompagner', 'de', 'manière']\n",
      "['je', 'veux', 'ma', 'voiture']\n",
      "['nous', 'pouvons', 'vous', 'entendez', 'du', '#vin#']\n",
      "['je', 'veux', 'ma', 'voiture']\n",
      "['nous', 'pouvons', 'vous', 'accompagner', 'de', 'manière']\n",
      "['je', 'veux', 'ma', 'voiture']\n",
      "['nous', 'pouvons', 'vous', 'servir', 'du', 'véhicule']\n",
      "['je', 'veux', 'ma', 'voiture']\n",
      "['nous', 'pouvons', 'vous', 'entendez', 'ou', 'mieux', 'vous', 'inscrire']\n",
      "['je', 'veux', 'ma', 'voiture']\n",
      "['nous', 'pouvons', 'vous', 'servir', 'du', 'véhicule']\n",
      "['je', 'veux', 'mon', 'véhicule']\n",
      "['la', 'liste', 'des', 'ce', '#vin#', 'vous']\n",
      "['je', 'veux', 'mon', 'véhicule']\n",
      "['les', 'caractéristiques', 'est', 'disponible', '#code_dtc#']\n",
      "['je', 'veux', 'mon', 'véhicule']\n",
      "['les', 'caractéristiques', 'est', 'disponible', '#code_dtc#']\n",
      "['je', 'veux', 'mon', 'véhicule']\n",
      "['les', 'caractéristiques', 'est', 'de', 'ce', 'véhicule']\n",
      "['je', 'veux', 'mon', 'véhicule']\n",
      "['la', 'les', 'votre', 'disponibles', 'sur', 'votre', 'dashboard']\n",
      "['je', 'veux', 'mon', 'véhicule']\n",
      "['les', 'caractéristiques', 'est', 'de', 'ce', 'véhicule']\n",
      "['je', 'veux', 'mon', 'véhicule']\n",
      "['les', 'caractéristiques', 'est', 'disponible', 'sur', 'votre', 'dashboard']\n",
      "['je', 'veux', 'mon', 'véhicule']\n",
      "['la', 'les', 'votre', 'disponibles', 'à', '#code_dtc#']\n",
      "['je', 'veux', 'mon', 'véhicule']\n",
      "['la', 'les', 'votre', 'disponibles', 'à', '#code_dtc#']\n",
      "['je', 'veux', 'mon', 'véhicule']\n",
      "['la', 'les', 'votre', 'disponibles', 'à', '#code_dtc#']\n",
      "['je', 'veux', 'mon', 'véhicule']\n",
      "['la', 'les', 'votre', 'disponibles', 'à', '#code_dtc#']\n",
      "['je', 'veux', 'ma', 'voiture']\n",
      "['nous', 'pouvons', 'vous', 'accompagner', 'de', 'manière']\n",
      "['je', 'veux', 'ma', 'voiture']\n",
      "['nous', 'pouvons', 'vous', 'accompagner', 'de', 'manière']\n",
      "['je', 'veux', 'ma', 'voiture']\n",
      "['nous', 'pouvons', 'vous', 'accompagner', 'de', 'manière']\n",
      "['je', 'veux', 'une', 'voiture']\n",
      "['le', 'le', 'défaut', 'code', 'est', '#vin_proxi#']\n",
      "['je', 'veux', 'une', 'voiture']\n",
      "['le', 'le', 'défaut', 'code', 'est', '#vin_proxi#']\n",
      "['je', 'veux', 'un', 'véhicule']\n",
      "['ok']\n",
      "['je', 'veux', 'un', 'véhicule']\n",
      "['ok']\n",
      "['je', 'veux', 'un', 'véhicule']\n",
      "['ok']\n",
      "['je', 'veux', 'ma', 'voiture']\n",
      "['nous', 'pouvons', 'vous', 'accompagner', 'de', 'manière']\n",
      "['je', 'veux', 'une', 'voitue']\n",
      "['voici', '#contract#', 'et', 'des', 'experts', 'en', 'lien', 'avec', 'avec', 'thématique']\n",
      "['je', 'veux', 'une', 'voiture']\n",
      "['le', 'code', 'le', 'point', 'de', '2h']\n",
      "['je', 'veux', 'une', 'voiture']\n",
      "['le', 'code', 'le', 'point', 'de', '2h']\n",
      "['je', 'veux', 'un', 'véhicule']\n",
      "['ok']\n",
      "['je', 'veux', 'mon', 'véhicule']\n",
      "['la', 'liste', 'des', 'codes', 'ce', 'véhicule', 'est', 'disponible', 'dans', 'votre', 'dashboard']\n",
      "['je', 'veux', 'mon', 'véhicule']\n",
      "['la', 'liste', 'des', 'codes', 'ce', 'véhicule', 'est', 'disponible', 'dans', 'votre', 'dashboard']\n",
      "['je', 'voudrais', 'un', 'véhicule']\n",
      "['il', 'faut', 'mettre', 'à', 'jour', 'la', 'base', 'de', 'données', 'véhicules']\n",
      "['avons', 'nous', 'des', 'véhicules', 'à', \"l'étranger\"]\n",
      "['#oui/non#']\n",
      "['combien', 'de', 'véhicules', 'à', \"l'étranger\"]\n",
      "['#oui/non#']\n",
      "['combien', 'de', 'véhicules', 'qui', 'roulent']\n",
      "['#total_veh_movement#', 'véhicules', 'de', 'la', 'société', 'roulent']\n",
      "['bonjour']\n",
      "['bonjour']\n",
      "['je', 'veux', 'une', 'voiture']\n",
      "['le', 'le', 'défaut', 'code', 'est', '#vin_proxi#', 'pouvez-vous']\n",
      "['je', 'veux', 'une', 'voiture']\n",
      "['le', 'code', 'le', 'point', 'de', 'votre', 'dashboard']\n",
      "['je', 'veux', 'une', 'voiture']\n",
      "['le', 'le', 'défaut', 'est', 'pouvez-vous']\n",
      "['bonjour']\n",
      "['bonjour']\n",
      "['bonjour']\n",
      "['bonjour']\n",
      "['je', 'cherche', 'une', 'voiture']\n",
      "['le', 'le', 'numéro', 'de', 'qui', 'véhicule', 'concerné', '(numéro', 'de', \"l'achat\"]\n",
      "['bonjour']\n",
      "['bonjour']\n",
      "['combien', 'de', 'véhicules', 'qui', 'roulent']\n",
      "['#total_veh_movement#', 'véhicules', 'de', 'la', 'société', 'roulent']\n",
      "['combien', 'de', 'véhicules', 'qui', 'est', 'à', \"l'arrêt\"]\n",
      "['ce', 'véhicule', '#vin#', 'semble', 'immobilisé']\n",
      "['combien', 'de', 'km', 'mon', 'véhicule', 'a', 'roulé', 'ce', 'mois']\n",
      "['la', 'distance', 'parcourue', 'par', 'ce', 'véhicule', 'est', 'de', '#km#']\n",
      "['combien', 'de', 'km', 'mon', 'véhicule', 'est', 'roulé', 'cette', 'semaine']\n",
      "['vous', 'pouvez', 'vous', 'servir', 'à', 'partir']\n",
      "['combien', 'de', 'km', 'mon', 'véhicule', 'est', 'roulé', 'pendant', 'ces', '3', 'derniers', 'mois']\n",
      "['la', 'distance', 'parcourue', 'par', 'ce', 'véhicule', 'est', 'vous']\n",
      "['bonjour']\n",
      "['bonjour']\n",
      "['comme', 'vas', 'tu']\n",
      "['cordialement']\n",
      "['je', 'veux', 'ma', 'voiture']\n",
      "['nous', 'pouvons', 'vous', 'accompagner', 'de', 'manière']\n",
      "['je', 'veux', 'mon', 'véhicule']\n",
      "['la', 'liste', 'des', 'véhicules', '#vin#', 'votre', 'espace']\n",
      "['je', 'veux', 'mon', 'véhicule']\n",
      "['la', 'liste', 'des', 'véhicules', '#vin#', 'votre', 'espace']\n",
      "['je', 'veux', 'mon', 'véhicule']\n",
      "['la', 'liste', 'des', 'véhicules', '#vin#', 'votre', 'espace']\n",
      "['je', 'veux', 'ma', 'voiture']\n",
      "['nous', 'pouvons', 'vous', 'accompagner', 'de', 'manière']\n",
      "['bonjour']\n",
      "['bonjour']\n",
      "['je', 'veux', 'ma', 'voiture']\n",
      "['nous', 'le', 'numéro', 'mieux', 'vous']\n",
      "['où', 'est', 'ma', 'voiture']\n",
      "['le', 'dernier', 'du', 'véhicule', 'est', '#trajet#']\n",
      "['où', 'est', 'mon', 'véhicule']\n",
      "['le', 'véhicule', 'est', 'celui', 'qui', 'est', '#tco_vehicule#']\n",
      "['je', 'suis', 'coincé']\n",
      "['contactez-nous', 'lien', \"l'accès\", 'au', 'est', '#brand_tyre#']\n"
     ]
    }
   ],
   "source": [
    "with open(os.path.join(config.CHECK_POINT_PATH,config.OUTPUT_FILE)) as f:\n",
    "    for line in f:\n",
    "        line= str(line)\n",
    "        a=line[9:].split()\n",
    "        print(a)\n"
   ]
  },
  {
   "cell_type": "code",
   "execution_count": 28,
   "metadata": {},
   "outputs": [
    {
     "data": {
      "text/plain": [
       "'nh khong'"
      ]
     },
     "execution_count": 28,
     "metadata": {},
     "output_type": "execute_result"
    }
   ],
   "source": [
    "line = 'anh khong'\n",
    "line[1:]"
   ]
  }
 ],
 "metadata": {
  "kernelspec": {
   "display_name": "Python 3",
   "language": "python",
   "name": "python3"
  },
  "language_info": {
   "codemirror_mode": {
    "name": "ipython",
    "version": 3
   },
   "file_extension": ".py",
   "mimetype": "text/x-python",
   "name": "python",
   "nbconvert_exporter": "python",
   "pygments_lexer": "ipython3",
   "version": "3.6.4"
  }
 },
 "nbformat": 4,
 "nbformat_minor": 2
}
