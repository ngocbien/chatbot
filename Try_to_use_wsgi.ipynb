{
 "cells": [
  {
   "cell_type": "code",
   "execution_count": 4,
   "metadata": {},
   "outputs": [
    {
     "name": "stdout",
     "output_type": "stream",
     "text": [
      "Collecting cgi\n",
      "\u001b[31m  Could not find a version that satisfies the requirement cgi (from versions: )\u001b[0m\n",
      "\u001b[31mNo matching distribution found for cgi\u001b[0m\n"
     ]
    }
   ],
   "source": [
    "import sys\n",
    "!{sys.executable} -m pip install cgi"
   ]
  },
  {
   "cell_type": "code",
   "execution_count": null,
   "metadata": {},
   "outputs": [
    {
     "name": "stdout",
     "output_type": "stream",
     "text": [
      "Serving on port 8080...\n"
     ]
    }
   ],
   "source": [
    "import cgi\n",
    "\n",
    "form = b'''\n",
    "<html>\n",
    "    <head>\n",
    "        <title>Hello User!</title>\n",
    "    </head>\n",
    "    <body>\n",
    "        <form method=\"post\">\n",
    "            <label>Hello</label>\n",
    "            <input type=\"text\" name=\"name\">\n",
    "            <input type=\"submit\" value=\"Go\">\n",
    "        </form>\n",
    "    </body>\n",
    "</html>\n",
    "'''\n",
    "\n",
    "def app(environ, start_response):\n",
    "    html = form\n",
    "\n",
    "    if environ['REQUEST_METHOD'] == 'POST':\n",
    "        post_env = environ.copy()\n",
    "        post_env['QUERY_STRING'] = ''\n",
    "        post = cgi.FieldStorage(\n",
    "            fp=environ['wsgi.input'],\n",
    "            environ=post_env,\n",
    "            keep_blank_values=True\n",
    "        )\n",
    "        html = b'Hello, ' + post['name'].value + '!'\n",
    "\n",
    "    start_response('200 OK', [('Content-Type', 'text/html')])\n",
    "    return [html]\n",
    "\n",
    "if __name__ == '__main__':\n",
    "    try:\n",
    "        from wsgiref.simple_server import make_server\n",
    "        httpd = make_server('', 8080, app)\n",
    "        print('Serving on port 8080...')\n",
    "        httpd.serve_forever()\n",
    "    except KeyboardInterrupt:\n",
    "        print('Goodbye.')"
   ]
  }
 ],
 "metadata": {
  "kernelspec": {
   "display_name": "Python 3",
   "language": "python",
   "name": "python3"
  },
  "language_info": {
   "codemirror_mode": {
    "name": "ipython",
    "version": 3
   },
   "file_extension": ".py",
   "mimetype": "text/x-python",
   "name": "python",
   "nbconvert_exporter": "python",
   "pygments_lexer": "ipython3",
   "version": "3.6.4"
  }
 },
 "nbformat": 4,
 "nbformat_minor": 2
}
